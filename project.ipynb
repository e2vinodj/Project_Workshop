{
 "cells": [
  {
   "cell_type": "code",
   "execution_count": null,
   "metadata": {
    "collapsed": true
   },
   "outputs": [],
   "source": [
    "##########################################################################################\n",
    "### Purpose: To understand how to execute the different ways\n",
    "###             of viewing data and data summaries in R\n",
    "##########################################################################################\n",
    "\n",
    "### 1.0.1 - load the packages\n",
    "library(dplyr)\n",
    "library(data.table)\n",
    "\n",
    "### 1.0.2 - initialize file paths for working directories \n",
    "\n",
    "### 1.0.4 - import the data\n",
    "temp <- tempfile()\n",
    "download.file(\"http://s3.amazonaws.com/assets.datacamp.com/production/course_6490/datasets/ILTCI%20PM%20workshop%20CTR%20data.zip\", temp)\n",
    "unzip(temp,\"ILTCI PM workshop CTR data.csv\",overwrite=TRUE)\n",
    "ctr_data  <-fread(\"ILTCI PM workshop CTR data.csv\", sep=\",\", header=TRUE) \n",
    "unlink(temp)\n",
    "\n",
    "\n",
    "### 1.0.5 - view the data to see what we're working with\n",
    "names(ctr_data)\n",
    "str(ctr_data)\n",
    "glimpse(ctr_data)\n",
    "class(ctr_data)\n",
    "head(ctr_data, 10)"
   ]
  },
  {
   "cell_type": "markdown",
   "metadata": {},
   "source": [
    "- View the data types, Column Names\n"
   ]
  },
  {
   "cell_type": "code",
   "execution_count": null,
   "metadata": {
    "collapsed": true
   },
   "outputs": [],
   "source": [
    "# 1.0.6 - view basic data summaries to see if there are any problems with the data\n",
    "summary(ctr_data)\n",
    "table(ctr_data$Cov_Type_Bucket)\n",
    "table(ctr_data$GroupIndicator)\n",
    "table(ctr_data$Gender)\n",
    "table(ctr_data$Cov_Type_Bucket, ctr_data$GroupIndicator)\n",
    "table(ctr_data$Cov_Type_Bucket, ctr_data$GroupIndicator, ctr_data$Gender)\n",
    "table(ctr_data$Diagnosis_Category)\n",
    "\n",
    "# 1.0.7 - dig into one of the fields, the tax-qualified status; status of unknown is frequent\n",
    "tq_table <- table(ctr_data$TQ_Status)\n",
    "tq_table / sum(tq_table)\n",
    "\n",
    "# 1.0.8 - graph some of the fields for some basic data integrity and sanity checks\n",
    "boxplot(ctr_data$ClaimDuration,\n",
    "        main = \"Boxplot of Data by Claim Duration\",\n",
    "        ylab = \"Claim Duration\"\n",
    "        )\n",
    "boxplot(ctr_data$Exposure,\n",
    "        main = \"Boxplot of Data by Exposure\",\n",
    "        ylab = \"Exposure\"\n",
    "        )\n",
    "situs_counts <- table(ctr_data$ClaimType)\n",
    "barplot(situs_counts,\n",
    "        main = \"Bar Chart of Situs Counts\",\n",
    "        ylab = \"Counts\"\n",
    "        )\n",
    "tq_counts <- table(ctr_data$TQ_Status)\n",
    "barplot(tq_counts,\n",
    "        main = \"Bar Chart of TQ Status Counts\",\n",
    "        ylab = \"Counts\")\n"
   ]
  },
  {
   "cell_type": "code",
   "execution_count": null,
   "metadata": {
    "collapsed": true
   },
   "outputs": [],
   "source": [
    "# 1.0.9 - perform a basic summary of hazard rates, and view the results for reasonability\n",
    "term_stats <- ctr_data %>%\n",
    "                    select(ClaimDuration,\n",
    "                           Exposure,\n",
    "                           Terminations\n",
    "                           ) %>%\n",
    "                    group_by(ClaimDuration\n",
    "                           ) %>%\n",
    "                    summarise(SumExposure = sum(Exposure),\n",
    "                              SumTerminations = sum(Terminations),\n",
    "                              term_rates = SumTerminations / SumExposure\n",
    "                            )\n",
    "\n",
    "View(term_stats)\n",
    "\n",
    "# 1.0.10 - plot the hazard rate summary, and view it for reasonability\n",
    "attach(term_stats)\n",
    "\n",
    "plot(y = term_rates[1:120], \n",
    "     x = ClaimDuration[1:120],\n",
    "     xlab = \"Claim Duration\",\n",
    "     ylab = \"Term Rate\",\n",
    "     type = \"l\",\n",
    "     main = \"Hazard rates by claim duration\",\n",
    "     col = \"blue\")\n",
    "\n",
    "# 1.0.11 - add in a smoothed line to remove some of the noise\n",
    "lines(smooth(term_rates[1:120]), \n",
    "      col = \"red\")\n",
    "\n",
    "detach(term_stats)\n",
    "\n",
    "# 1.0.12 - credibility view - do you have enough termination data to perform an analysis?\n",
    "cred_stats <- ctr_data %>%\n",
    "                    select(Gender,\n",
    "                           ClaimType,\n",
    "                           IncurredAgeBucket,\n",
    "                           Terminations\n",
    "                            ) %>%\n",
    "                    group_by(Gender,\n",
    "                             ClaimType,\n",
    "                             IncurredAgeBucket\n",
    "                            ) %>%\n",
    "                    summarise(SumTerminations = sum(Terminations)\n",
    "                            )\n",
    "\n",
    "# 1.0.13 - view the results for a judgment call on credibility\n",
    "View(cred_stats)\n"
   ]
  }
 ],
 "metadata": {
  "kernelspec": {
   "display_name": "R",
   "language": "R",
   "name": "ir"
  },
  "language_info": {
   "codemirror_mode": "r",
   "file_extension": ".r",
   "mimetype": "text/x-r-source",
   "name": "R",
   "pygments_lexer": "r",
   "version": "3.3.2"
  }
 },
 "nbformat": 4,
 "nbformat_minor": 2
}
